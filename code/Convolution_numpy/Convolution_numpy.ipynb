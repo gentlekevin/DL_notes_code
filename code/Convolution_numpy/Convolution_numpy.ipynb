{
 "cells": [
  {
   "cell_type": "code",
   "execution_count": 1,
   "metadata": {},
   "outputs": [],
   "source": [
    "import numpy as np\n",
    "import h5py\n",
    "import matplotlib.pyplot as plt\n",
    "\n",
    "%matplotlib inline\n",
    "plt.rcParams['figure.figsize'] = (5.0, 4.0) # set default size of plots\n",
    "plt.rcParams['image.interpolation'] = 'nearest'\n",
    "plt.rcParams['image.cmap'] = 'gray'\n",
    "\n",
    "%load_ext autoreload\n",
    "%autoreload 2\n",
    "\n",
    "np.random.seed(1)"
   ]
  },
  {
   "cell_type": "code",
   "execution_count": 3,
   "metadata": {},
   "outputs": [],
   "source": [
    "def zero_pad(X,pad):\n",
    "    \"\"\"\n",
    "    X:(m,x_h,x_w,c)\n",
    "    pad:integer\n",
    "    \"\"\"\n",
    "    X_pad=np.pad(X,((0,0),(pad,pad),(pad,pad),(0,0)),'constant',constant_values=0)\n",
    "    return X_pad"
   ]
  },
  {
   "cell_type": "code",
   "execution_count": 5,
   "metadata": {},
   "outputs": [
    {
     "name": "stdout",
     "output_type": "stream",
     "text": [
      "(4, 3, 3, 2)\n",
      "(4, 5, 5, 2)\n"
     ]
    }
   ],
   "source": [
    "x = np.random.randn(4, 3, 3, 2)\n",
    "x_pad = zero_pad(x, 1)\n",
    "print(x.shape)\n",
    "print(x_pad.shape)"
   ]
  },
  {
   "cell_type": "code",
   "execution_count": null,
   "metadata": {},
   "outputs": [],
   "source": [
    "def conv_single_step(a_slice_prev,W,b):\n",
    "    s=a_slice_prev*W+b\n",
    "    z=np.sum(s)\n",
    "    return z"
   ]
  },
  {
   "cell_type": "code",
   "execution_count": 9,
   "metadata": {},
   "outputs": [],
   "source": [
    "def conv_forward(A_prev,W,b,hparameters):\n",
    "    \"\"\"\n",
    "    A_prev:(m,n_h_prev,n_w_prev,n_c_prev)\n",
    "    W:(f,f,n_c_prev,n_c)\n",
    "    b:(1,1,1,n_c)\n",
    "    hparamters: dictionary containing \"strid\" and \"pad\"\n",
    "    \n",
    "    Return:\n",
    "    Z:conv output,(m,n_h,n_w,n_c)\n",
    "    cache: cache of values needed for the conv_backward()function\n",
    "    \"\"\"\n",
    "    (m,n_H_prev,n_W_prev,n_C_prev)=A_prev.shape\n",
    "    (f,f,n_C_prev,n_C)=W.shape\n",
    "    stride=hparameters[\"stride\"]\n",
    "    pad = hparameters[\"pad\"]\n",
    "    \n",
    "    n_H=int((n_H_prev-f+2*pad)/stride)+1\n",
    "    n_W=int((n_W_prev-f+2*pad)/stride)+1\n",
    "    Z=np.zeros(m,n_H,n_W,n_C)\n",
    "    \n",
    "    A_prev_pad=zero_pad(A_prev,pad)\n",
    "    for i in range(m):\n",
    "        a_prev_pad=A_prev_pad[i]\n",
    "        for h in range(n_H):\n",
    "            for w in range(n_W):\n",
    "                for c in range(n_C):\n",
    "                    vert_start=h*stride\n",
    "                    vert_end=vert_start+f\n",
    "                    horiz_start=w*stride\n",
    "                    horiz_end=horize+f\n",
    "                    a_prev_slice=z_prev_pad[vert_start:vert_end,horiz_start:horiz_end,:]\n",
    "                    Z[i,h,w,c]=conv_single_step(a_prev_slice,W[:,:,:,c],b[:,:,:c])\n",
    "    cache=(A_prev,W,b,hparameters)\n",
    "    return Z,cache\n",
    "    "
   ]
  },
  {
   "cell_type": "code",
   "execution_count": 11,
   "metadata": {},
   "outputs": [],
   "source": [
    "def pool_forward(A_prev,hparameters,mode=\"max\"):\n",
    "    \"\"\"\n",
    "    A_prev(m,n_H_prev,n_W_prev,n_C_prev)\n",
    "    hparameters: dictionary of (\"stride\",\"f\")\n",
    "    mode:\"max\"or\"average\"\n",
    "    Returns:\n",
    "    A(m,n_H,n_W,n_C)\n",
    "    \n",
    "    \"\"\"\n",
    "    (m,n_H_prev,n_W_prev,n_C_prev)=A_prev.shape\n",
    "    stride=hparameters[\"stride\"]\n",
    "    f=hparameters[\"f\"]\n",
    "    \n",
    "    n_H=int((n_H_prev-f)/stride)+1\n",
    "    n_W=int((n_W_prev-f)/stride)+1\n",
    "    A=np.zeros(m,n_H,n_W,n_C)\n",
    "    for i in range(m):\n",
    "        a_prev=A_prev[i]\n",
    "        for h in range(n_H):\n",
    "            for w in range(n_W):\n",
    "                for c in range(n_C):\n",
    "                    vert_start=h*stride\n",
    "                    vert_end=vert_start+f\n",
    "                    horiz_start=w*stride\n",
    "                    horiz_end=horiz_start+f\n",
    "                    a_prev_slice=a_prev[vert_start:vert_end,horiz_start:horiz_end,c]\n",
    "                    if mode==\"max\":\n",
    "                        A[i,h,w,c]=np.max(a_prev_slice)\n",
    "                    if mode==\"average\":\n",
    "                        A[i,h,w,c]=np.mean(a_prev_slice)\n",
    "    cache=(A_prev,hparameters)\n",
    "    return Z,cache"
   ]
  },
  {
   "cell_type": "code",
   "execution_count": 12,
   "metadata": {},
   "outputs": [],
   "source": [
    "def conv_backward(dZ, cache):\n",
    "    \"\"\"\n",
    "    dZ:shape(m,n_H,n_W,n_C)\n",
    "    cache(A_prev,W,b,hparameters)\n",
    "    \n",
    "    Returns:\n",
    "    dA_prev\n",
    "    dW(f,f,n_C_prev,n_C)\n",
    "    db(1,1,1,n_C)\n",
    "    \n",
    "    \"\"\"\n",
    "    (A_prev,W,b,hparameters) = cache\n",
    "    (m,n_H_prev,n_W_prev,n_C_prev) = A_prev.shape\n",
    "    (f,f,n_C_prev,n_C)=W.shape\n",
    "    (m,n_H,n_W,n_C)=dZ.shape\n",
    "    \n",
    "    stride = hparameters[\"stride\"]\n",
    "    pad = hparameters[\"pad\"]\n",
    "    \n",
    "    dA_prev=np.zeros(A_prev.shape)\n",
    "    dW=np.zeros(W.shape)\n",
    "    db=np.zeros(b.shape)\n",
    "    \n",
    "    A_prev_pad=zero_pad(A_prev,pad)\n",
    "    dA_prev_pad=zero_pad(dA_prev,pad)\n",
    "    \n",
    "    for i in range(m):\n",
    "        a_prev=A_prev_pad[i]\n",
    "        da_prev=dA_prev_pad[i]\n",
    "        for h in range(n_H):\n",
    "            for w in range(n_W):\n",
    "                vert_start=h*stride\n",
    "                vert_end=vert_start+f\n",
    "                horiz_start=w*stride\n",
    "                horiz_end=horiz_start+f\n",
    "                \n",
    "                a_prev_slice = a_prev_pad[vert_start:vert_end,horiz_start:horiz_end,:]\n",
    "                da_prev_pad[vert_start:vert_end,horiz_start:horiz_end,:]+=W[:,:,:,c]*dZ[i,h,w,c]\n",
    "                dW[:,:,:,c]+=a_prev_slice*dZ[i,h,w,c]\n",
    "                db[:,:,:,c]+=dZ[:,:,:,c]\n",
    "        dA_prev[i,:,:,:]=da_prev_pad[pad:-pad,pad:-pad,:]\n",
    "        \n",
    "    return dA_prev,dW,db\n",
    "    "
   ]
  },
  {
   "cell_type": "code",
   "execution_count": 13,
   "metadata": {},
   "outputs": [],
   "source": [
    "def create_mask_form_window(x):\n",
    "    mask=(x==np.max(x))\n",
    "    return mask\n"
   ]
  },
  {
   "cell_type": "code",
   "execution_count": 14,
   "metadata": {},
   "outputs": [],
   "source": [
    "def distribute_value(dz,shape):\n",
    "    (n_H,n_W)=shape\n",
    "    average=n_H*n_W\n",
    "    a=np.ones(shape)*average\n",
    "    return a"
   ]
  },
  {
   "cell_type": "code",
   "execution_count": 15,
   "metadata": {},
   "outputs": [],
   "source": [
    "def pool_backward(dA,cache,mode=\"max\"):\n",
    "    \n",
    "    (A_prev,hparameters)=cache\n",
    "    stride=hparameters[\"stride\"]\n",
    "    f=hparameters[\"f\"]\n",
    "    m,n_H_prev,n_W_prev,n_C_prev=A_prev.shape\n",
    "    m,n_H,n_W,n_C=dA.shape\n",
    "    dA_prev=np.zeros(A_prev.shape)\n",
    "    \n",
    "    for i in range(m):\n",
    "        a_prev=A_prev[i]\n",
    "        for h in range(n_H):\n",
    "            for w in range(n_W):\n",
    "                for c in range(n_C):\n",
    "                    vert_start=h*stride\n",
    "                    vert_end=vert_start+f\n",
    "                    horiz_start=w*stride\n",
    "                    horiz_end=horiz_start+f\n",
    "                    if mode==\"max\":\n",
    "                        a_prev_slice=a_prev[vert_start:vert_end,horiz_start:horiz_end,c]\n",
    "                        mask=create_mask_from_window(a_prev_slice)\n",
    "                        dA_prev[i,vert_start:vert_end,horiz_start:horiz_end,c]+=mask*dA[i,vert_start,horiz_start,c]\n",
    "                    if mode==\"average\":\n",
    "                        da=dA[i,vert_start,horiz_start,c]\n",
    "                        shape=(f,f)\n",
    "                        dA_prev[i,vert_start:vert_end,horiz_start:horiz_end,c]+=distribute_value(da,shape)\n",
    "        return dA_prev\n",
    "    "
   ]
  },
  {
   "cell_type": "code",
   "execution_count": null,
   "metadata": {},
   "outputs": [],
   "source": [
    "gent"
   ]
  }
 ],
 "metadata": {
  "kernelspec": {
   "display_name": "Python 3",
   "language": "python",
   "name": "python3"
  },
  "language_info": {
   "codemirror_mode": {
    "name": "ipython",
    "version": 3
   },
   "file_extension": ".py",
   "mimetype": "text/x-python",
   "name": "python",
   "nbconvert_exporter": "python",
   "pygments_lexer": "ipython3",
   "version": "3.6.4"
  }
 },
 "nbformat": 4,
 "nbformat_minor": 2
}
