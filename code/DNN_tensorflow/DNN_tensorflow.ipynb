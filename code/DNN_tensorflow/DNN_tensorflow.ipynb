{
 "cells": [
  {
   "cell_type": "code",
   "execution_count": 1,
   "metadata": {},
   "outputs": [],
   "source": [
    "import math\n",
    "import numpy as np\n",
    "import h5py\n",
    "import matplotlib.pyplot as plt\n",
    "import tensorflow as tf\n",
    "from tensorflow.python.framework import ops\n",
    "%matplotlib inline\n",
    "np.random.seed(1)"
   ]
  },
  {
   "cell_type": "code",
   "execution_count": 2,
   "metadata": {},
   "outputs": [],
   "source": [
    "def load_dataset():\n",
    "    train_dataset = h5py.File('datasets/train_signs.h5', \"r\")\n",
    "    train_set_x_orig = np.array(train_dataset[\"train_set_x\"][:]) # your train set features\n",
    "    train_set_y_orig = np.array(train_dataset[\"train_set_y\"][:]) # your train set labels\n",
    "\n",
    "    test_dataset = h5py.File('datasets/test_signs.h5', \"r\")\n",
    "    test_set_x_orig = np.array(test_dataset[\"test_set_x\"][:]) # your test set features\n",
    "    test_set_y_orig = np.array(test_dataset[\"test_set_y\"][:]) # your test set labels\n",
    "\n",
    "    classes = np.array(test_dataset[\"list_classes\"][:]) # the list of classes\n",
    "    \n",
    "    train_set_y_orig = train_set_y_orig.reshape((1, train_set_y_orig.shape[0]))\n",
    "    test_set_y_orig = test_set_y_orig.reshape((1, test_set_y_orig.shape[0]))\n",
    "    \n",
    "    return train_set_x_orig, train_set_y_orig, test_set_x_orig, test_set_y_orig, classes\n"
   ]
  },
  {
   "cell_type": "code",
   "execution_count": 3,
   "metadata": {},
   "outputs": [],
   "source": [
    "X_train_orig, Y_train_orig, X_test_orig, Y_test_orig, classes = load_dataset()"
   ]
  },
  {
   "cell_type": "code",
   "execution_count": 4,
   "metadata": {},
   "outputs": [
    {
     "name": "stdout",
     "output_type": "stream",
     "text": [
      "(1080, 64, 64, 3)\n",
      "(1, 1080)\n",
      "(120, 64, 64, 3)\n",
      "(1, 120)\n",
      "y = 5\n"
     ]
    },
    {
     "data": {
      "image/png": "[encoded data removed]",
      "text/plain": [
       "<matplotlib.figure.Figure at 0x1446bba8>"
      ]
     },
     "metadata": {},
     "output_type": "display_data"
    }
   ],
   "source": [
    "print(X_train_orig.shape)\n",
    "print(Y_train_orig.shape)\n",
    "print(X_test_orig.shape)\n",
    "print(Y_test_orig.shape)\n",
    "index = 0\n",
    "plt.imshow(X_train_orig[index])\n",
    "print (\"y = \" + str(np.squeeze(Y_train_orig[:, index])))"
   ]
  },
  {
   "cell_type": "code",
   "execution_count": 5,
   "metadata": {},
   "outputs": [],
   "source": [
    "def one_hot_matrix(labels,C):\n",
    "    one_hot_m=tf.one_hot(indices=labels,depth=C,axis=0)\n",
    "    sess=tf.Session()\n",
    "    one_hot=sess.run(one_hot_m)\n",
    "    sess.close()\n",
    "    return one_hot\n",
    "    "
   ]
  },
  {
   "cell_type": "code",
   "execution_count": 7,
   "metadata": {},
   "outputs": [
    {
     "name": "stdout",
     "output_type": "stream",
     "text": [
      "one_hot = [[0. 0. 0. 1. 0. 0.]\n",
      " [1. 0. 0. 0. 0. 1.]\n",
      " [0. 1. 0. 0. 1. 0.]\n",
      " [0. 0. 1. 0. 0. 0.]]\n"
     ]
    }
   ],
   "source": [
    "labels = np.array([1,2,3,0,2,1])\n",
    "one_hot = one_hot_matrix(labels, C = 4)\n",
    "print (\"one_hot = \" + str(one_hot))"
   ]
  },
  {
   "cell_type": "code",
   "execution_count": 10,
   "metadata": {},
   "outputs": [
    {
     "name": "stdout",
     "output_type": "stream",
     "text": [
      "number of training examples = 1080\n",
      "number of test examples = 120\n",
      "X_train shape: (12288, 1080)\n",
      "Y_train shape: (6, 1080)\n",
      "X_test shape: (12288, 120)\n",
      "Y_test shape: (6, 120)\n"
     ]
    }
   ],
   "source": [
    "X_train_flatten=X_train_orig.reshape(X_train_orig.shape[0],-1).T\n",
    "X_test_flatten=X_test_orig.reshape(X_test_orig.shape[0],-1).T\n",
    "\n",
    "X_train=X_train_flatten/255\n",
    "X_test=X_test_flatten/255\n",
    "Y=np.squeeze(Y_train_orig)\n",
    "\n",
    "Y_train=one_hot_matrix(np.squeeze(Y_train_orig),6)\n",
    "Y_test=one_hot_matrix(np.squeeze(Y_test_orig),6)\n",
    "print (\"number of training examples = \" + str(X_train.shape[1]))\n",
    "print (\"number of test examples = \" + str(X_test.shape[1]))\n",
    "print (\"X_train shape: \" + str(X_train.shape))\n",
    "print (\"Y_train shape: \" + str(Y_train.shape))\n",
    "print (\"X_test shape: \" + str(X_test.shape))\n",
    "print (\"Y_test shape: \" + str(Y_test.shape))"
   ]
  },
  {
   "cell_type": "code",
   "execution_count": 21,
   "metadata": {},
   "outputs": [],
   "source": [
    "def create_placeholders(n_x,n_y):\n",
    "    X=tf.placeholder(tf.float32,[n_x,None],name='X')\n",
    "    Y=tf.placeholder(tf.float32,[n_y,None],name='Y')\n",
    "    return X,Y"
   ]
  },
  {
   "cell_type": "code",
   "execution_count": 34,
   "metadata": {},
   "outputs": [],
   "source": [
    "def intialize_parameters(layers_dims):\n",
    "    parameters={}\n",
    "    for i in range(1,len(layers_dims)):\n",
    "        parameters[\"W\"+str(i)]=tf.get_variable(\"W\"+str(i),[layers_dims[i],layers_dims[i-1]],initializer=tf.contrib.layers.xavier_initializer(seed=1))\n",
    "                                               \n",
    "        parameters[\"b\"+str(i)]=tf.get_variable(\"b\"+str(i),[layers_dims[i],1],initializer=tf.zeros_initializer())\n",
    "        \n",
    "    return parameters     "
   ]
  },
  {
   "cell_type": "code",
   "execution_count": 42,
   "metadata": {},
   "outputs": [],
   "source": [
    "def forward_propagation(X,parameters):\n",
    "    L=len(parameters)//2\n",
    "    A=X\n",
    "    for l in range(1,L):\n",
    "       Z=tf.add(tf.matmul(parameters[\"W\"+str(l)],A),parameters[\"b\"+str(l)])\n",
    "       A=tf.nn.relu(Z)\n",
    "    Z=tf.add(tf.matmul(parameters[\"W\"+str(L)],A),parameters[\"b\"+str(L)])\n",
    "    return Z       "
   ]
  },
  {
   "cell_type": "code",
   "execution_count": 23,
   "metadata": {},
   "outputs": [],
   "source": [
    "def compute_cost (Z,Y):\n",
    "    logits = tf.transpose(Z)\n",
    "    labels = tf.transpose(Y)\n",
    "    cost=tf.reduce_mean(tf.nn.softmax_cross_entropy_with_logits(logits=logits,labels=labels))\n",
    "    return cost"
   ]
  },
  {
   "cell_type": "code",
   "execution_count": 28,
   "metadata": {},
   "outputs": [],
   "source": [
    "def random_mini_batches(X,Y,mini_batch_size=64,seed=0):\n",
    "    np.random.seed(seed)\n",
    "    m=X.shape[1]\n",
    "    mini_batchs=[]\n",
    "    \n",
    "    permutation=np.random.permutation(m)\n",
    "    \n",
    "    X_shuffled=X[:,permutation]\n",
    "    Y_shuffled=Y[:,permutation]\n",
    "\n",
    "    L=math.floor(m/mini_batch_size)\n",
    "    \n",
    "    for l in range(L):\n",
    "        \n",
    "        mini_batchs_X=X_shuffled[:,mini_batch_size*l:mini_batch_size*(l+1)]\n",
    "        mini_batchs_Y=Y_shuffled[:,mini_batch_size*l:mini_batch_size*(l+1)]\n",
    "        mini_batchs.append((mini_batchs_X,mini_batchs_Y))\n",
    "    if L*mini_batch_size<m:\n",
    "        mini_batchs_X=X_shuffled[:,mini_batch_size*L:m]\n",
    "        mini_batchs_Y=Y_shuffled[:,mini_batch_size*L:m]\n",
    "        mini_batchs.append((mini_batchs_X,mini_batchs_Y))\n",
    "    return mini_batchs"
   ]
  },
  {
   "cell_type": "code",
   "execution_count": 46,
   "metadata": {},
   "outputs": [],
   "source": [
    "def model(X_train,Y_train,X_test,Y_test,learning_rate=0.0001,num_epoches=1500,minibatch_size=32,print_cost=True):\n",
    "    \n",
    "    ops.reset_default_graph()\n",
    "    tf.set_random_seed(1)\n",
    "    seed = 3\n",
    "    costs=[]\n",
    "    n_x=X_train.shape[0]\n",
    "    n_y=Y_train.shape[0]\n",
    "             \n",
    "    \n",
    "    \n",
    "    layers_dims=[X_train.shape[0],25,12,6]\n",
    "    parameters=intialize_parameters(layers_dims)\n",
    "    X,Y=create_placeholders(n_x,n_y)  \n",
    "    Z=forward_propagation(X,parameters)\n",
    "    cost=compute_cost (Z,Y)\n",
    "    optimizer=tf.train.AdamOptimizer(learning_rate=learning_rate).minimize(cost)\n",
    "    init=tf.global_variables_initializer()\n",
    "    \n",
    "    with tf.Session() as sess:\n",
    "        sess.run(init)\n",
    "        for i in range(num_epoches):\n",
    "            epoch_cost=0\n",
    "            seed = seed + 1\n",
    "            minibatchs=random_mini_batches(X_train,Y_train,mini_batch_size=minibatch_size,seed = seed)\n",
    "                       \n",
    "            for minibatch in minibatchs:\n",
    "                (X_minibatch,Y_minibatch)=minibatch\n",
    "                _,minibatch_cost=sess.run([optimizer,cost],feed_dict={X:X_minibatch,Y:Y_minibatch})\n",
    "                epoch_cost+= minibatch_cost\n",
    "            if print_cost==True and i%100==0:\n",
    "                print(\"Cost after epoch%i:%f\" %(i,epoch_cost))\n",
    "            if print_cost==True and  i%5 ==0:\n",
    "                costs.append(epoch_cost)\n",
    "        # plot the cost\n",
    "        plt.plot(np.squeeze(costs))\n",
    "        plt.ylabel('cost')\n",
    "        plt.xlabel('iterations (per tens)')\n",
    "        plt.title(\"Learning rate =\" + str(learning_rate))\n",
    "        plt.show()\n",
    "    \n",
    "        parameters = sess.run(parameters)\n",
    "        print (\"Parameters have been trained!\")\n",
    "    \n",
    "        # Calculate the accuracy\n",
    "        correct_prediction=tf.equal(tf.argmax(Z),tf.argmax(Y))\n",
    "        accuracy=tf.reduce_mean(tf.cast(correct_prediction,\"float\"))\n",
    "        print (\"Train Accuracy:\", accuracy.eval({X: X_train, Y:Y_train}))\n",
    "        print (\"Test Accuracy:\", accuracy.eval({X: X_test, Y: Y_test}))\n",
    "        return parameters"
   ]
  },
  {
   "cell_type": "code",
   "execution_count": 47,
   "metadata": {
    "scrolled": true
   },
   "outputs": [
    {
     "name": "stdout",
     "output_type": "stream",
     "text": [
      "Cost after epoch0:61.238164\n",
      "Cost after epoch100:33.543110\n",
      "Cost after epoch200:24.192380\n",
      "Cost after epoch300:18.906955\n",
      "Cost after epoch400:15.470360\n",
      "Cost after epoch500:12.572311\n",
      "Cost after epoch600:10.356022\n",
      "Cost after epoch700:8.390524\n",
      "Cost after epoch800:6.725233\n",
      "Cost after epoch900:5.491522\n",
      "Cost after epoch1000:4.669409\n",
      "Cost after epoch1100:3.550091\n",
      "Cost after epoch1200:2.845542\n",
      "Cost after epoch1300:1.960706\n",
      "Cost after epoch1400:1.723835\n"
     ]
    },
    {
     "data": {
      "image/png": "[encoded data removed]",
      "text/plain": [
       "<matplotlib.figure.Figure at 0x2a0ca908>"
      ]
     },
     "metadata": {},
     "output_type": "display_data"
    },
    {
     "name": "stdout",
     "output_type": "stream",
     "text": [
      "Parameters have been trained!\n",
      "Train Accuracy: 0.9990741\n",
      "Test Accuracy: 0.71666664\n"
     ]
    }
   ],
   "source": [
    "parameters = model(X_train, Y_train, X_test, Y_test)"
   ]
  },
  {
   "cell_type": "code",
   "execution_count": null,
   "metadata": {},
   "outputs": [],
   "source": []
  }
 ],
 "metadata": {
  "kernelspec": {
   "display_name": "Python 3",
   "language": "python",
   "name": "python3"
  },
  "language_info": {
   "codemirror_mode": {
    "name": "ipython",
    "version": 3
   },
   "file_extension": ".py",
   "mimetype": "text/x-python",
   "name": "python",
   "nbconvert_exporter": "python",
   "pygments_lexer": "ipython3",
   "version": "3.6.4"
  }
 },
 "nbformat": 4,
 "nbformat_minor": 2
}
